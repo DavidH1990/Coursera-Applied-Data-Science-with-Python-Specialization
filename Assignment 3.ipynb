{
 "cells": [
  {
   "cell_type": "markdown",
   "metadata": {},
   "source": [
    "---\n",
    "\n",
    "_You are currently looking at **version 1.5** of this notebook. To download notebooks and datafiles, as well as get help on Jupyter notebooks in the Coursera platform, visit the [Jupyter Notebook FAQ](https://www.coursera.org/learn/python-data-analysis/resources/0dhYG) course resource._\n",
    "\n",
    "---"
   ]
  },
  {
   "cell_type": "markdown",
   "metadata": {},
   "source": [
    "# Assignment 3 - More Pandas\n",
    "This assignment requires more individual learning then the last one did - you are encouraged to check out the [pandas documentation](http://pandas.pydata.org/pandas-docs/stable/) to find functions or methods you might not have used yet, or ask questions on [Stack Overflow](http://stackoverflow.com/) and tag them as pandas and python related. And of course, the discussion forums are open for interaction with your peers and the course staff."
   ]
  },
  {
   "cell_type": "markdown",
   "metadata": {},
   "source": [
    "### Question 1 (20%)\n",
    "Load the energy data from the file `Energy Indicators.xls`, which is a list of indicators of [energy supply and renewable electricity production](Energy%20Indicators.xls) from the [United Nations](http://unstats.un.org/unsd/environment/excel_file_tables/2013/Energy%20Indicators.xls) for the year 2013, and should be put into a DataFrame with the variable name of **energy**.\n",
    "\n",
    "Keep in mind that this is an Excel file, and not a comma separated values file. Also, make sure to exclude the footer and header information from the datafile. The first two columns are unneccessary, so you should get rid of them, and you should change the column labels so that the columns are:\n",
    "\n",
    "`['Country', 'Energy Supply', 'Energy Supply per Capita', '% Renewable']`\n",
    "\n",
    "Convert `Energy Supply` to gigajoules (there are 1,000,000 gigajoules in a petajoule). For all countries which have missing data (e.g. data with \"...\") make sure this is reflected as `np.NaN` values.\n",
    "\n",
    "Rename the following list of countries (for use in later questions):\n",
    "\n",
    "```\"Republic of Korea\": \"South Korea\",\n",
    "\"United States of America\": \"United States\",\n",
    "\"United Kingdom of Great Britain and Northern Ireland\": \"United Kingdom\",\n",
    "\"China, Hong Kong Special Administrative Region\": \"Hong Kong\"```\n",
    "\n",
    "There are also several countries with numbers and/or parenthesis in their name. Be sure to remove these, \n",
    "\n",
    "e.g. \n",
    "\n",
    "`'Bolivia (Plurinational State of)'` should be `'Bolivia'`, \n",
    "\n",
    "`'Switzerland17'` should be `'Switzerland'`.\n",
    "\n",
    "<br>\n",
    "\n",
    "Next, load the GDP data from the file `world_bank.csv`, which is a csv containing countries' GDP from 1960 to 2015 from [World Bank](http://data.worldbank.org/indicator/NY.GDP.MKTP.CD). Call this DataFrame **GDP**. \n",
    "\n",
    "Make sure to skip the header, and rename the following list of countries:\n",
    "\n",
    "```\"Korea, Rep.\": \"South Korea\", \n",
    "\"Iran, Islamic Rep.\": \"Iran\",\n",
    "\"Hong Kong SAR, China\": \"Hong Kong\"```\n",
    "\n",
    "<br>\n",
    "\n",
    "Finally, load the [Sciamgo Journal and Country Rank data for Energy Engineering and Power Technology](http://www.scimagojr.com/countryrank.php?category=2102) from the file `scimagojr-3.xlsx`, which ranks countries based on their journal contributions in the aforementioned area. Call this DataFrame **ScimEn**.\n",
    "\n",
    "Join the three datasets: GDP, Energy, and ScimEn into a new dataset (using the intersection of country names). Use only the last 10 years (2006-2015) of GDP data and only the top 15 countries by Scimagojr 'Rank' (Rank 1 through 15). \n",
    "\n",
    "The index of this DataFrame should be the name of the country, and the columns should be ['Rank', 'Documents', 'Citable documents', 'Citations', 'Self-citations',\n",
    "       'Citations per document', 'H index', 'Energy Supply',\n",
    "       'Energy Supply per Capita', '% Renewable', '2006', '2007', '2008',\n",
    "       '2009', '2010', '2011', '2012', '2013', '2014', '2015'].\n",
    "\n",
    "*This function should return a DataFrame with 20 columns and 15 entries.*"
   ]
  },
  {
   "cell_type": "code",
   "execution_count": 126,
   "metadata": {},
   "outputs": [
    {
     "name": "stdout",
     "output_type": "stream",
     "text": [
      "Before:\n",
      "71     Democratic People's Republic of Korea\n",
      "179                              South Korea\n",
      "Name: Country, dtype: object\n",
      "231    United States of America20\n",
      "Name: Country, dtype: object\n",
      "229    United Kingdom of Great Britain and Northern I...\n",
      "Name: Country, dtype: object\n",
      "58    China, Hong Kong Special Administrative Region3\n",
      "Name: Country, dtype: object\n",
      "After:\n",
      "71     Democratic People's Republic of Korea\n",
      "179                              South Korea\n",
      "Name: Country, dtype: object\n",
      "231    United States\n",
      "Name: Country, dtype: object\n",
      "229    United Kingdom\n",
      "Name: Country, dtype: object\n",
      "58    Hong Kong\n",
      "Name: Country, dtype: object\n"
     ]
    }
   ],
   "source": [
    "import pandas as pd\n",
    "import numpy as np\n",
    "\n",
    "# Load Dataset\n",
    "cols = [2,3,4,5]\n",
    "df = pd.read_excel('Energy Indicators.xls',  skiprows=2, usecols = cols)\n",
    "df.columns = ['Country', 'Energy Supply', 'Energy Supply per Capita', '% Renewable']\n",
    "\n",
    "df['Energy Supply'] = df['Energy Supply'] * 1000000\n",
    "\n",
    "# For all countries which have missing data (e.g. data with \"...\") \n",
    "# make sure this is reflected as np.NaN values.\n",
    "    \n",
    "# Cleanning data by words\n",
    "df['Country'][df['Country'].str.contains('Data', na=False, case = False)] = np.NaN\n",
    "df['Country'][df['Country'].str.contains('Energy', na=False)] = np.NaN\n",
    "df['Country'][df['Country'].str.contains('Country', na=False, case = True)] = np.NaN\n",
    "df['Country'][df['Country'].str.contains('Choose', na=False, case = True)] = np.NaN\n",
    "\n",
    "# Cleanning data with \".....\"\n",
    "\"\"\"\n",
    "    We do not have a lot of variables so I'll go through them one by one looking for \"...\".\n",
    "\"\"\"\n",
    "df[df['Country'] == 'American Samoa'] # is an example\n",
    "    # Variables\n",
    "df['Energy Supply'][df['Energy Supply'].str.contains('...', na=False)] = np.NaN\n",
    "df['Energy Supply per Capita'][df['Energy Supply per Capita'].str.contains('...', na=False)] = np.NaN\n",
    "df['% Renewable'][df['% Renewable'].str.contains('...', na=False)] = np.NaN\n",
    "\n",
    "df = df.dropna(how = 'any')\n",
    "#df.head(223) # It looks good.\n",
    "\n",
    "# Rename the following list of countries (for use in later questions):\n",
    "df['Country'][df['Country'] == \"Republic of Korea\"] = \"South Korea\"\n",
    "df['Country'][df['Country'] == \"United States of America\"] = \"United States\"\n",
    "df['Country'][df['Country'] == \"United Kingdom of Great Britain and Northern Ireland\"] = \"United Kingdom\"\n",
    "df['Country'][df['Country'] == \"China, Hong Kong Special Administrative Region\"] = \"Hong Kong\"\n",
    "# Verify\n",
    "countries = ['Korea', 'United States', 'United Kingdom', 'Hong Kong']\n",
    "\n",
    "print(\"Before:\")\n",
    "for count in countries:\n",
    "    print(df['Country'][df['Country'].str.contains(count)])\n",
    "\"\"\"\n",
    "    Note: only south korea worked.\n",
    "\"\"\"\n",
    "\n",
    "# Fix\n",
    "df['Country'][df['Country'].str.contains('Hong Kong')] = 'Hong Kong'\n",
    "df['Country'][df['Country'].str.contains('United Kingdom')] = 'United Kingdom'\n",
    "df['Country'][df['Country'].str.contains('United States')] = 'United States'\n",
    "df['Country'][df['Country'].str.contains('Iran')] = 'Iran'\n",
    "\n",
    "print(\"After:\")\n",
    "for count in countries:\n",
    "    print(df['Country'][df['Country'].str.contains(count)])\n",
    "\n"
   ]
  },
  {
   "cell_type": "code",
   "execution_count": 127,
   "metadata": {
    "collapsed": true
   },
   "outputs": [],
   "source": [
    "# Numbers\n",
    "df['Country']  = df['Country'].str.replace('[0-9]', \"\")\n",
    "#print(df['Country'][df['Country'].str.contains('[0-9]')])\n",
    "\n",
    "\n",
    "#for i in range(0, df.shape[0]):\n",
    "#    print(df['Country'].values[i])"
   ]
  },
  {
   "cell_type": "code",
   "execution_count": 128,
   "metadata": {},
   "outputs": [
    {
     "data": {
      "text/html": [
       "<div>\n",
       "<table border=\"1\" class=\"dataframe\">\n",
       "  <thead>\n",
       "    <tr style=\"text-align: right;\">\n",
       "      <th></th>\n",
       "      <th>Country Name</th>\n",
       "      <th>Country Code</th>\n",
       "      <th>Indicator Name</th>\n",
       "      <th>Indicator Code</th>\n",
       "      <th>1960</th>\n",
       "      <th>1961</th>\n",
       "      <th>1962</th>\n",
       "      <th>1963</th>\n",
       "      <th>1964</th>\n",
       "      <th>1965</th>\n",
       "      <th>...</th>\n",
       "      <th>2006</th>\n",
       "      <th>2007</th>\n",
       "      <th>2008</th>\n",
       "      <th>2009</th>\n",
       "      <th>2010</th>\n",
       "      <th>2011</th>\n",
       "      <th>2012</th>\n",
       "      <th>2013</th>\n",
       "      <th>2014</th>\n",
       "      <th>2015</th>\n",
       "    </tr>\n",
       "  </thead>\n",
       "  <tbody>\n",
       "    <tr>\n",
       "      <th>93</th>\n",
       "      <td>Hong Kong</td>\n",
       "      <td>HKG</td>\n",
       "      <td>GDP at market prices (constant 2010 US$)</td>\n",
       "      <td>NY.GDP.MKTP.KD</td>\n",
       "      <td>NaN</td>\n",
       "      <td>NaN</td>\n",
       "      <td>NaN</td>\n",
       "      <td>NaN</td>\n",
       "      <td>NaN</td>\n",
       "      <td>1.764691e+10</td>\n",
       "      <td>...</td>\n",
       "      <td>2.019164e+11</td>\n",
       "      <td>2.149698e+11</td>\n",
       "      <td>2.195440e+11</td>\n",
       "      <td>2.141452e+11</td>\n",
       "      <td>2.286377e+11</td>\n",
       "      <td>2.396459e+11</td>\n",
       "      <td>2.437206e+11</td>\n",
       "      <td>2.512081e+11</td>\n",
       "      <td>2.577757e+11</td>\n",
       "      <td>2.638606e+11</td>\n",
       "    </tr>\n",
       "    <tr>\n",
       "      <th>109</th>\n",
       "      <td>Iran</td>\n",
       "      <td>IRN</td>\n",
       "      <td>GDP at market prices (constant 2010 US$)</td>\n",
       "      <td>NY.GDP.MKTP.KD</td>\n",
       "      <td>5.500820e+10</td>\n",
       "      <td>6.072406e+10</td>\n",
       "      <td>6.552689e+10</td>\n",
       "      <td>7.014134e+10</td>\n",
       "      <td>7.608598e+10</td>\n",
       "      <td>8.904776e+10</td>\n",
       "      <td>...</td>\n",
       "      <td>3.895523e+11</td>\n",
       "      <td>4.250646e+11</td>\n",
       "      <td>4.289909e+11</td>\n",
       "      <td>4.389208e+11</td>\n",
       "      <td>4.677902e+11</td>\n",
       "      <td>4.853309e+11</td>\n",
       "      <td>4.532569e+11</td>\n",
       "      <td>4.445926e+11</td>\n",
       "      <td>4.639027e+11</td>\n",
       "      <td>NaN</td>\n",
       "    </tr>\n",
       "    <tr>\n",
       "      <th>123</th>\n",
       "      <td>South Korea</td>\n",
       "      <td>KOR</td>\n",
       "      <td>GDP at market prices (constant 2010 US$)</td>\n",
       "      <td>NY.GDP.MKTP.KD</td>\n",
       "      <td>2.757696e+10</td>\n",
       "      <td>2.893825e+10</td>\n",
       "      <td>2.964966e+10</td>\n",
       "      <td>3.247578e+10</td>\n",
       "      <td>3.493136e+10</td>\n",
       "      <td>3.674434e+10</td>\n",
       "      <td>...</td>\n",
       "      <td>9.410199e+11</td>\n",
       "      <td>9.924316e+11</td>\n",
       "      <td>1.020510e+12</td>\n",
       "      <td>1.027730e+12</td>\n",
       "      <td>1.094499e+12</td>\n",
       "      <td>1.134796e+12</td>\n",
       "      <td>1.160809e+12</td>\n",
       "      <td>1.194429e+12</td>\n",
       "      <td>1.234340e+12</td>\n",
       "      <td>1.266580e+12</td>\n",
       "    </tr>\n",
       "  </tbody>\n",
       "</table>\n",
       "<p>3 rows × 60 columns</p>\n",
       "</div>"
      ],
      "text/plain": [
       "    Country Name Country Code                            Indicator Name  \\\n",
       "93     Hong Kong          HKG  GDP at market prices (constant 2010 US$)   \n",
       "109         Iran          IRN  GDP at market prices (constant 2010 US$)   \n",
       "123  South Korea          KOR  GDP at market prices (constant 2010 US$)   \n",
       "\n",
       "     Indicator Code          1960          1961          1962          1963  \\\n",
       "93   NY.GDP.MKTP.KD           NaN           NaN           NaN           NaN   \n",
       "109  NY.GDP.MKTP.KD  5.500820e+10  6.072406e+10  6.552689e+10  7.014134e+10   \n",
       "123  NY.GDP.MKTP.KD  2.757696e+10  2.893825e+10  2.964966e+10  3.247578e+10   \n",
       "\n",
       "             1964          1965      ...               2006          2007  \\\n",
       "93            NaN  1.764691e+10      ...       2.019164e+11  2.149698e+11   \n",
       "109  7.608598e+10  8.904776e+10      ...       3.895523e+11  4.250646e+11   \n",
       "123  3.493136e+10  3.674434e+10      ...       9.410199e+11  9.924316e+11   \n",
       "\n",
       "             2008          2009          2010          2011          2012  \\\n",
       "93   2.195440e+11  2.141452e+11  2.286377e+11  2.396459e+11  2.437206e+11   \n",
       "109  4.289909e+11  4.389208e+11  4.677902e+11  4.853309e+11  4.532569e+11   \n",
       "123  1.020510e+12  1.027730e+12  1.094499e+12  1.134796e+12  1.160809e+12   \n",
       "\n",
       "             2013          2014          2015  \n",
       "93   2.512081e+11  2.577757e+11  2.638606e+11  \n",
       "109  4.445926e+11  4.639027e+11           NaN  \n",
       "123  1.194429e+12  1.234340e+12  1.266580e+12  \n",
       "\n",
       "[3 rows x 60 columns]"
      ]
     },
     "execution_count": 128,
     "metadata": {},
     "output_type": "execute_result"
    }
   ],
   "source": [
    "# Load other datasets\n",
    "# world bank dataset:\n",
    "GDP = pd.read_csv('world_bank.csv', skiprows=4)\n",
    "\n",
    "GDP['Country Name'][GDP['Country Name'].str.contains('Korea, Rep', case = False)] = \"South Korea\"\n",
    "GDP['Country Name'][GDP['Country Name'].str.contains('Iran', case = False)] = \"Iran\"\n",
    "GDP['Country Name'][GDP['Country Name'].str.contains('Hong Kong', case = False)] = \"Hong Kong\"\n",
    "\n",
    "GDP[(GDP['Country Name'] == 'South Korea') |\n",
    "    (GDP['Country Name'] == 'Iran') |\n",
    "    (GDP['Country Name'] == 'Hong Kong')] # Looks fine\n"
   ]
  },
  {
   "cell_type": "code",
   "execution_count": 129,
   "metadata": {},
   "outputs": [
    {
     "data": {
      "text/html": [
       "<div>\n",
       "<table border=\"1\" class=\"dataframe\">\n",
       "  <thead>\n",
       "    <tr style=\"text-align: right;\">\n",
       "      <th></th>\n",
       "      <th>Rank</th>\n",
       "      <th>Country</th>\n",
       "      <th>Documents</th>\n",
       "      <th>Citable documents</th>\n",
       "      <th>Citations</th>\n",
       "      <th>Self-citations</th>\n",
       "      <th>Citations per document</th>\n",
       "      <th>H index</th>\n",
       "    </tr>\n",
       "  </thead>\n",
       "  <tbody>\n",
       "    <tr>\n",
       "      <th>0</th>\n",
       "      <td>1</td>\n",
       "      <td>China</td>\n",
       "      <td>127050</td>\n",
       "      <td>126767</td>\n",
       "      <td>597237</td>\n",
       "      <td>411683</td>\n",
       "      <td>4.70</td>\n",
       "      <td>138</td>\n",
       "    </tr>\n",
       "    <tr>\n",
       "      <th>1</th>\n",
       "      <td>2</td>\n",
       "      <td>United States</td>\n",
       "      <td>96661</td>\n",
       "      <td>94747</td>\n",
       "      <td>792274</td>\n",
       "      <td>265436</td>\n",
       "      <td>8.20</td>\n",
       "      <td>230</td>\n",
       "    </tr>\n",
       "    <tr>\n",
       "      <th>2</th>\n",
       "      <td>3</td>\n",
       "      <td>Japan</td>\n",
       "      <td>30504</td>\n",
       "      <td>30287</td>\n",
       "      <td>223024</td>\n",
       "      <td>61554</td>\n",
       "      <td>7.31</td>\n",
       "      <td>134</td>\n",
       "    </tr>\n",
       "    <tr>\n",
       "      <th>3</th>\n",
       "      <td>4</td>\n",
       "      <td>United Kingdom</td>\n",
       "      <td>20944</td>\n",
       "      <td>20357</td>\n",
       "      <td>206091</td>\n",
       "      <td>37874</td>\n",
       "      <td>9.84</td>\n",
       "      <td>139</td>\n",
       "    </tr>\n",
       "    <tr>\n",
       "      <th>4</th>\n",
       "      <td>5</td>\n",
       "      <td>Russian Federation</td>\n",
       "      <td>18534</td>\n",
       "      <td>18301</td>\n",
       "      <td>34266</td>\n",
       "      <td>12422</td>\n",
       "      <td>1.85</td>\n",
       "      <td>57</td>\n",
       "    </tr>\n",
       "  </tbody>\n",
       "</table>\n",
       "</div>"
      ],
      "text/plain": [
       "   Rank             Country  Documents  Citable documents  Citations  \\\n",
       "0     1               China     127050             126767     597237   \n",
       "1     2       United States      96661              94747     792274   \n",
       "2     3               Japan      30504              30287     223024   \n",
       "3     4      United Kingdom      20944              20357     206091   \n",
       "4     5  Russian Federation      18534              18301      34266   \n",
       "\n",
       "   Self-citations  Citations per document  H index  \n",
       "0          411683                    4.70      138  \n",
       "1          265436                    8.20      230  \n",
       "2           61554                    7.31      134  \n",
       "3           37874                    9.84      139  \n",
       "4           12422                    1.85       57  "
      ]
     },
     "execution_count": 129,
     "metadata": {},
     "output_type": "execute_result"
    }
   ],
   "source": [
    "ScimEn = pd.read_excel('scimagojr-3.xlsx')\n",
    "ScimEn.head()"
   ]
  },
  {
   "cell_type": "code",
   "execution_count": 88,
   "metadata": {},
   "outputs": [
    {
     "name": "stdout",
     "output_type": "stream",
     "text": [
      "Column naems: \n",
      "\n",
      " Energy: \n",
      " Index(['Country', 'Energy Supply', 'Energy Supply per Capita', '% Renewable'], dtype='object') \n",
      " GDP: \n",
      " Index(['Country Name', 'Country Code', 'Indicator Name', 'Indicator Code',\n",
      "       '1960', '1961', '1962', '1963', '1964', '1965', '1966', '1967', '1968',\n",
      "       '1969', '1970', '1971', '1972', '1973', '1974', '1975', '1976', '1977',\n",
      "       '1978', '1979', '1980', '1981', '1982', '1983', '1984', '1985', '1986',\n",
      "       '1987', '1988', '1989', '1990', '1991', '1992', '1993', '1994', '1995',\n",
      "       '1996', '1997', '1998', '1999', '2000', '2001', '2002', '2003', '2004',\n",
      "       '2005', '2006', '2007', '2008', '2009', '2010', '2011', '2012', '2013',\n",
      "       '2014', '2015'],\n",
      "      dtype='object') \n",
      " ScimEn: \n",
      " Index(['Rank', 'Country', 'Documents', 'Citable documents', 'Citations',\n",
      "       'Self-citations', 'Citations per document', 'H index'],\n",
      "      dtype='object')\n"
     ]
    }
   ],
   "source": [
    "print('Column naems: \\n\\n',\n",
    "      'Energy: \\n', df.columns, '\\n',\n",
    "      'GDP: \\n', GDP.columns, '\\n',\n",
    "      'ScimEn: \\n', ScimEn.columns)"
   ]
  },
  {
   "cell_type": "code",
   "execution_count": 130,
   "metadata": {},
   "outputs": [
    {
     "data": {
      "text/plain": [
       "(15, 20)"
      ]
     },
     "execution_count": 130,
     "metadata": {},
     "output_type": "execute_result"
    }
   ],
   "source": [
    "# Keep only the relevant columns\n",
    "Energy_GDP = pd.merge(df,\n",
    "                     GDP[['Country Name', 'Indicator Name', 'Indicator Code', \n",
    "                         '2006', '2007', '2008', '2009', '2010', '2011', \n",
    "                         '2012', '2013', '2014', '2015']],\n",
    "                     how = 'inner', left_on='Country', right_on='Country Name')\n",
    "merged_df = pd.merge(Energy_GDP,\n",
    "                     ScimEn[ScimEn['Rank'] <= 15],\n",
    "                     how = 'inner', left_on='Country', right_on='Country')\n",
    "\n",
    "merged_df.set_index('Country', inplace=True)\n",
    "\n",
    "del merged_df['Country Name']\n",
    "del merged_df['Indicator Name']\n",
    "del merged_df['Indicator Code']\n",
    "\n",
    "merged_df.shape"
   ]
  },
  {
   "cell_type": "markdown",
   "metadata": {},
   "source": [
    "### Question 2 (6.6%)\n",
    "The previous question joined three datasets then reduced this to just the top 15 entries. When you joined the datasets, but before you reduced this to the top 15 items, how many entries did you lose?\n",
    "\n",
    "*This function should return a single number.*"
   ]
  },
  {
   "cell_type": "code",
   "execution_count": 7,
   "metadata": {},
   "outputs": [
    {
     "data": {
      "text/html": [
       "<svg width=\"800\" height=\"300\">\n",
       "  <circle cx=\"150\" cy=\"180\" r=\"80\" fill-opacity=\"0.2\" stroke=\"black\" stroke-width=\"2\" fill=\"blue\" />\n",
       "  <circle cx=\"200\" cy=\"100\" r=\"80\" fill-opacity=\"0.2\" stroke=\"black\" stroke-width=\"2\" fill=\"red\" />\n",
       "  <circle cx=\"100\" cy=\"100\" r=\"80\" fill-opacity=\"0.2\" stroke=\"black\" stroke-width=\"2\" fill=\"green\" />\n",
       "  <line x1=\"150\" y1=\"125\" x2=\"300\" y2=\"150\" stroke=\"black\" stroke-width=\"2\" fill=\"black\" stroke-dasharray=\"5,3\"/>\n",
       "  <text  x=\"300\" y=\"165\" font-family=\"Verdana\" font-size=\"35\">Everything but this!</text>\n",
       "</svg>"
      ],
      "text/plain": [
       "<IPython.core.display.HTML object>"
      ]
     },
     "metadata": {},
     "output_type": "display_data"
    }
   ],
   "source": [
    "%%HTML\n",
    "<svg width=\"800\" height=\"300\">\n",
    "  <circle cx=\"150\" cy=\"180\" r=\"80\" fill-opacity=\"0.2\" stroke=\"black\" stroke-width=\"2\" fill=\"blue\" />\n",
    "  <circle cx=\"200\" cy=\"100\" r=\"80\" fill-opacity=\"0.2\" stroke=\"black\" stroke-width=\"2\" fill=\"red\" />\n",
    "  <circle cx=\"100\" cy=\"100\" r=\"80\" fill-opacity=\"0.2\" stroke=\"black\" stroke-width=\"2\" fill=\"green\" />\n",
    "  <line x1=\"150\" y1=\"125\" x2=\"300\" y2=\"150\" stroke=\"black\" stroke-width=\"2\" fill=\"black\" stroke-dasharray=\"5,3\"/>\n",
    "  <text  x=\"300\" y=\"165\" font-family=\"Verdana\" font-size=\"35\">Everything but this!</text>\n",
    "</svg>"
   ]
  },
  {
   "cell_type": "code",
   "execution_count": 131,
   "metadata": {},
   "outputs": [
    {
     "name": "stdout",
     "output_type": "stream",
     "text": [
      "Difference between observations is:  168 \n",
      " This is valid since each country apears only once so that these 15 top countries just can be subtracted\n"
     ]
    }
   ],
   "source": [
    "Energy_GDP_outer = pd.merge(df,\n",
    "                     GDP[['Country Name', 'Indicator Name', 'Indicator Code', \n",
    "                         '2006', '2007', '2008', '2009', '2010', '2011', \n",
    "                         '2012', '2013', '2014', '2015']],\n",
    "                     how = 'outer', left_on='Country', right_on='Country Name')\n",
    "merged_df_outer = pd.merge(Energy_GDP,\n",
    "                     ScimEn[ScimEn['Rank'] <= 15],\n",
    "                     how = 'outer', left_on='Country', right_on='Country')\n",
    "\n",
    "print('Difference between observations is: ', \n",
    "      merged_df_outer.shape[0] - merged_df.shape[0],\n",
    "      \"\\n This is valid since each country apears only once so that these\" +\n",
    "      \" 15 top countries just can be subtracted\")\n",
    "\n"
   ]
  },
  {
   "cell_type": "code",
   "execution_count": 132,
   "metadata": {
    "collapsed": true,
    "umich_part_id": "010",
    "umich_partlist_id": "003"
   },
   "outputs": [],
   "source": [
    "def answer_two():\n",
    "    return \"168\""
   ]
  },
  {
   "cell_type": "markdown",
   "metadata": {},
   "source": [
    "## Answer the following questions in the context of only the top 15 countries by Scimagojr Rank (aka the DataFrame returned by `answer_one()`)"
   ]
  },
  {
   "cell_type": "markdown",
   "metadata": {},
   "source": [
    "### Question 3 (6.6%)\n",
    "What is the average GDP over the last 10 years for each country? (exclude missing values from this calculation.)\n",
    "\n",
    "*This function should return a Series named `avgGDP` with 15 countries and their average GDP sorted in descending order.*"
   ]
  },
  {
   "cell_type": "code",
   "execution_count": 133,
   "metadata": {},
   "outputs": [
    {
     "data": {
      "text/html": [
       "<div>\n",
       "<table border=\"1\" class=\"dataframe\">\n",
       "  <thead>\n",
       "    <tr style=\"text-align: right;\">\n",
       "      <th></th>\n",
       "      <th>Energy Supply</th>\n",
       "      <th>Energy Supply per Capita</th>\n",
       "      <th>% Renewable</th>\n",
       "      <th>2006</th>\n",
       "      <th>2007</th>\n",
       "      <th>2008</th>\n",
       "      <th>2009</th>\n",
       "      <th>2010</th>\n",
       "      <th>2011</th>\n",
       "      <th>2012</th>\n",
       "      <th>2013</th>\n",
       "      <th>2014</th>\n",
       "      <th>2015</th>\n",
       "      <th>Rank</th>\n",
       "      <th>Documents</th>\n",
       "      <th>Citable documents</th>\n",
       "      <th>Citations</th>\n",
       "      <th>Self-citations</th>\n",
       "      <th>Citations per document</th>\n",
       "      <th>H index</th>\n",
       "    </tr>\n",
       "    <tr>\n",
       "      <th>Country</th>\n",
       "      <th></th>\n",
       "      <th></th>\n",
       "      <th></th>\n",
       "      <th></th>\n",
       "      <th></th>\n",
       "      <th></th>\n",
       "      <th></th>\n",
       "      <th></th>\n",
       "      <th></th>\n",
       "      <th></th>\n",
       "      <th></th>\n",
       "      <th></th>\n",
       "      <th></th>\n",
       "      <th></th>\n",
       "      <th></th>\n",
       "      <th></th>\n",
       "      <th></th>\n",
       "      <th></th>\n",
       "      <th></th>\n",
       "      <th></th>\n",
       "    </tr>\n",
       "  </thead>\n",
       "  <tbody>\n",
       "    <tr>\n",
       "      <th>Australia</th>\n",
       "      <td>5386000000</td>\n",
       "      <td>231</td>\n",
       "      <td>11.8108</td>\n",
       "      <td>1.021939e+12</td>\n",
       "      <td>1.060340e+12</td>\n",
       "      <td>1.099644e+12</td>\n",
       "      <td>1.119654e+12</td>\n",
       "      <td>1.142251e+12</td>\n",
       "      <td>1.169431e+12</td>\n",
       "      <td>1.211913e+12</td>\n",
       "      <td>1.241484e+12</td>\n",
       "      <td>1.272520e+12</td>\n",
       "      <td>1.301251e+12</td>\n",
       "      <td>14</td>\n",
       "      <td>8831</td>\n",
       "      <td>8725</td>\n",
       "      <td>90765</td>\n",
       "      <td>15606</td>\n",
       "      <td>10.28</td>\n",
       "      <td>107</td>\n",
       "    </tr>\n",
       "    <tr>\n",
       "      <th>Brazil</th>\n",
       "      <td>12149000000</td>\n",
       "      <td>59</td>\n",
       "      <td>69.648</td>\n",
       "      <td>1.845080e+12</td>\n",
       "      <td>1.957118e+12</td>\n",
       "      <td>2.056809e+12</td>\n",
       "      <td>2.054215e+12</td>\n",
       "      <td>2.208872e+12</td>\n",
       "      <td>2.295245e+12</td>\n",
       "      <td>2.339209e+12</td>\n",
       "      <td>2.409740e+12</td>\n",
       "      <td>2.412231e+12</td>\n",
       "      <td>2.319423e+12</td>\n",
       "      <td>15</td>\n",
       "      <td>8668</td>\n",
       "      <td>8596</td>\n",
       "      <td>60702</td>\n",
       "      <td>14396</td>\n",
       "      <td>7.00</td>\n",
       "      <td>86</td>\n",
       "    </tr>\n",
       "    <tr>\n",
       "      <th>Canada</th>\n",
       "      <td>10431000000</td>\n",
       "      <td>296</td>\n",
       "      <td>61.9454</td>\n",
       "      <td>1.564469e+12</td>\n",
       "      <td>1.596740e+12</td>\n",
       "      <td>1.612713e+12</td>\n",
       "      <td>1.565145e+12</td>\n",
       "      <td>1.613406e+12</td>\n",
       "      <td>1.664087e+12</td>\n",
       "      <td>1.693133e+12</td>\n",
       "      <td>1.730688e+12</td>\n",
       "      <td>1.773486e+12</td>\n",
       "      <td>1.792609e+12</td>\n",
       "      <td>6</td>\n",
       "      <td>17899</td>\n",
       "      <td>17620</td>\n",
       "      <td>215003</td>\n",
       "      <td>40930</td>\n",
       "      <td>12.01</td>\n",
       "      <td>149</td>\n",
       "    </tr>\n",
       "    <tr>\n",
       "      <th>China</th>\n",
       "      <td>127191000000</td>\n",
       "      <td>93</td>\n",
       "      <td>19.7549</td>\n",
       "      <td>3.992331e+12</td>\n",
       "      <td>4.559041e+12</td>\n",
       "      <td>4.997775e+12</td>\n",
       "      <td>5.459247e+12</td>\n",
       "      <td>6.039659e+12</td>\n",
       "      <td>6.612490e+12</td>\n",
       "      <td>7.124978e+12</td>\n",
       "      <td>7.672448e+12</td>\n",
       "      <td>8.230121e+12</td>\n",
       "      <td>8.797999e+12</td>\n",
       "      <td>1</td>\n",
       "      <td>127050</td>\n",
       "      <td>126767</td>\n",
       "      <td>597237</td>\n",
       "      <td>411683</td>\n",
       "      <td>4.70</td>\n",
       "      <td>138</td>\n",
       "    </tr>\n",
       "    <tr>\n",
       "      <th>France</th>\n",
       "      <td>10597000000</td>\n",
       "      <td>166</td>\n",
       "      <td>17.0203</td>\n",
       "      <td>2.607840e+12</td>\n",
       "      <td>2.669424e+12</td>\n",
       "      <td>2.674637e+12</td>\n",
       "      <td>2.595967e+12</td>\n",
       "      <td>2.646995e+12</td>\n",
       "      <td>2.702032e+12</td>\n",
       "      <td>2.706968e+12</td>\n",
       "      <td>2.722567e+12</td>\n",
       "      <td>2.729632e+12</td>\n",
       "      <td>2.761185e+12</td>\n",
       "      <td>9</td>\n",
       "      <td>13153</td>\n",
       "      <td>12973</td>\n",
       "      <td>130632</td>\n",
       "      <td>28601</td>\n",
       "      <td>9.93</td>\n",
       "      <td>114</td>\n",
       "    </tr>\n",
       "  </tbody>\n",
       "</table>\n",
       "</div>"
      ],
      "text/plain": [
       "          Energy Supply Energy Supply per Capita % Renewable          2006  \\\n",
       "Country                                                                      \n",
       "Australia    5386000000                      231     11.8108  1.021939e+12   \n",
       "Brazil      12149000000                       59      69.648  1.845080e+12   \n",
       "Canada      10431000000                      296     61.9454  1.564469e+12   \n",
       "China      127191000000                       93     19.7549  3.992331e+12   \n",
       "France      10597000000                      166     17.0203  2.607840e+12   \n",
       "\n",
       "                   2007          2008          2009          2010  \\\n",
       "Country                                                             \n",
       "Australia  1.060340e+12  1.099644e+12  1.119654e+12  1.142251e+12   \n",
       "Brazil     1.957118e+12  2.056809e+12  2.054215e+12  2.208872e+12   \n",
       "Canada     1.596740e+12  1.612713e+12  1.565145e+12  1.613406e+12   \n",
       "China      4.559041e+12  4.997775e+12  5.459247e+12  6.039659e+12   \n",
       "France     2.669424e+12  2.674637e+12  2.595967e+12  2.646995e+12   \n",
       "\n",
       "                   2011          2012          2013          2014  \\\n",
       "Country                                                             \n",
       "Australia  1.169431e+12  1.211913e+12  1.241484e+12  1.272520e+12   \n",
       "Brazil     2.295245e+12  2.339209e+12  2.409740e+12  2.412231e+12   \n",
       "Canada     1.664087e+12  1.693133e+12  1.730688e+12  1.773486e+12   \n",
       "China      6.612490e+12  7.124978e+12  7.672448e+12  8.230121e+12   \n",
       "France     2.702032e+12  2.706968e+12  2.722567e+12  2.729632e+12   \n",
       "\n",
       "                   2015  Rank  Documents  Citable documents  Citations  \\\n",
       "Country                                                                  \n",
       "Australia  1.301251e+12    14       8831               8725      90765   \n",
       "Brazil     2.319423e+12    15       8668               8596      60702   \n",
       "Canada     1.792609e+12     6      17899              17620     215003   \n",
       "China      8.797999e+12     1     127050             126767     597237   \n",
       "France     2.761185e+12     9      13153              12973     130632   \n",
       "\n",
       "           Self-citations  Citations per document  H index  \n",
       "Country                                                     \n",
       "Australia           15606                   10.28      107  \n",
       "Brazil              14396                    7.00       86  \n",
       "Canada              40930                   12.01      149  \n",
       "China              411683                    4.70      138  \n",
       "France              28601                    9.93      114  "
      ]
     },
     "execution_count": 133,
     "metadata": {},
     "output_type": "execute_result"
    }
   ],
   "source": [
    "merged_df.head()"
   ]
  },
  {
   "cell_type": "code",
   "execution_count": 134,
   "metadata": {},
   "outputs": [
    {
     "data": {
      "text/plain": [
       "Country\n",
       "Australia             1.164043e+12\n",
       "Brazil                2.189794e+12\n",
       "Canada                1.660647e+12\n",
       "China                 6.348609e+12\n",
       "France                2.681725e+12\n",
       "Germany               3.493025e+12\n",
       "India                 1.769297e+12\n",
       "Iran                  4.441558e+11\n",
       "Italy                 2.120175e+12\n",
       "Japan                 5.542208e+12\n",
       "South Korea           1.106715e+12\n",
       "Russian Federation    1.565459e+12\n",
       "Spain                 1.418078e+12\n",
       "United Kingdom        2.487907e+12\n",
       "United States         1.536434e+13\n",
       "dtype: float64"
      ]
     },
     "execution_count": 134,
     "metadata": {},
     "output_type": "execute_result"
    }
   ],
   "source": [
    "top15 = np.mean(merged_df[['2006', '2007', '2008', '2009', '2010', '2011', '2012', \n",
    "                           '2013', '2014', '2015']], axis = 1)\n",
    "top15"
   ]
  },
  {
   "cell_type": "code",
   "execution_count": 135,
   "metadata": {
    "collapsed": true,
    "scrolled": true,
    "umich_part_id": "011",
    "umich_partlist_id": "003"
   },
   "outputs": [],
   "source": [
    "def answer_three():\n",
    "    Top15 = top15\n",
    "    return \"ANSWER\""
   ]
  },
  {
   "cell_type": "markdown",
   "metadata": {},
   "source": [
    "### Question 4 (6.6%)\n",
    "By how much had the GDP changed over the 10 year span for the country with the 6th largest average GDP?\n",
    "\n",
    "*This function should return a single number.*"
   ]
  },
  {
   "cell_type": "code",
   "execution_count": 136,
   "metadata": {},
   "outputs": [
    {
     "name": "stdout",
     "output_type": "stream",
     "text": [
      "Assuming that the change is suposed to be calculated as the difference between 2015 and 2006, the change is  [  2.46702696e+11]\n"
     ]
    }
   ],
   "source": [
    "top15.sort_values(axis=0, ascending=False).index[5] # the sixth country\n",
    "# The united kingdom\n",
    "T = merged_df['2015'][merged_df.index == 'United Kingdom']\n",
    "t = merged_df['2006'][merged_df.index == 'United Kingdom']\n",
    "print('Assuming that the change is suposed to be calculated as the ' + \n",
    "      'difference between 2015 and 2006, the change is ', T.values-t.values)"
   ]
  },
  {
   "cell_type": "markdown",
   "metadata": {},
   "source": [
    "### Question 5 (6.6%)\n",
    "What is the mean `Energy Supply per Capita`?\n",
    "\n",
    "*This function should return a single number.*"
   ]
  },
  {
   "cell_type": "code",
   "execution_count": 137,
   "metadata": {},
   "outputs": [
    {
     "data": {
      "text/plain": [
       "157.59999999999999"
      ]
     },
     "execution_count": 137,
     "metadata": {},
     "output_type": "execute_result"
    }
   ],
   "source": [
    "np.mean(merged_df['Energy Supply per Capita'])"
   ]
  },
  {
   "cell_type": "markdown",
   "metadata": {},
   "source": [
    "### Question 6 (6.6%)\n",
    "What country has the maximum % Renewable and what is the percentage?\n",
    "\n",
    "*This function should return a tuple with the name of the country and the percentage.*"
   ]
  },
  {
   "cell_type": "code",
   "execution_count": 138,
   "metadata": {
    "umich_part_id": "014",
    "umich_partlist_id": "003"
   },
   "outputs": [
    {
     "name": "stdout",
     "output_type": "stream",
     "text": [
      "Country: Brazil \n",
      " Precentage: 69.64803\n"
     ]
    }
   ],
   "source": [
    "country = merged_df['% Renewable'].sort_values(ascending=False).index[0]\n",
    "precentage = merged_df['% Renewable'].sort_values(ascending=False)[0]\n",
    "print(\"Country:\", country, '\\n',\n",
    "      \"Precentage:\", precentage)"
   ]
  },
  {
   "cell_type": "markdown",
   "metadata": {},
   "source": [
    "### Question 7 (6.6%)\n",
    "Create a new column that is the ratio of Self-Citations to Total Citations. \n",
    "What is the maximum value for this new column, and what country has the highest ratio?\n",
    "\n",
    "*This function should return a tuple with the name of the country and the ratio.*"
   ]
  },
  {
   "cell_type": "code",
   "execution_count": 139,
   "metadata": {
    "umich_part_id": "015",
    "umich_partlist_id": "003"
   },
   "outputs": [
    {
     "name": "stdout",
     "output_type": "stream",
     "text": [
      "Country: China \n",
      " Ratio: 0.689312617939\n"
     ]
    }
   ],
   "source": [
    "merged_df['Citation ratio'] = merged_df['Self-citations'] / merged_df['Citations']\n",
    "country = merged_df['Citation ratio'].sort_values(ascending=False).index[0]\n",
    "ratio = merged_df['Citation ratio'].sort_values(ascending=False)[0]\n",
    "print(\"Country:\", country, '\\n',\n",
    "      \"Ratio:\", ratio)"
   ]
  },
  {
   "cell_type": "markdown",
   "metadata": {},
   "source": [
    "### Question 8 (6.6%)\n",
    "\n",
    "Create a column that estimates the population using Energy Supply and Energy Supply per capita. \n",
    "What is the third most populous country according to this estimate?\n",
    "\n",
    "*This function should return a single string value.*"
   ]
  },
  {
   "cell_type": "code",
   "execution_count": 140,
   "metadata": {
    "umich_part_id": "016",
    "umich_partlist_id": "003"
   },
   "outputs": [
    {
     "name": "stdout",
     "output_type": "stream",
     "text": [
      "The thired most populated country is the United States\n"
     ]
    }
   ],
   "source": [
    "merged_df['pop'] = merged_df['Energy Supply']/merged_df['Energy Supply per Capita']\n",
    "country = merged_df['pop'].sort_values(ascending=False).index[2]\n",
    "print('The thired most populated country is the', country)"
   ]
  },
  {
   "cell_type": "markdown",
   "metadata": {},
   "source": [
    "### Question 9 (6.6%)\n",
    "Create a column that estimates the number of citable documents per person. \n",
    "What is the correlation between the number of citable documents per capita and the energy supply per capita? Use the `.corr()` method, (Pearson's correlation).\n",
    "\n",
    "*This function should return a single number.*\n",
    "\n",
    "*(Optional: Use the built-in function `plot9()` to visualize the relationship between Energy Supply per Capita vs. Citable docs per Capita)*"
   ]
  },
  {
   "cell_type": "code",
   "execution_count": 141,
   "metadata": {
    "umich_part_id": "017",
    "umich_partlist_id": "003"
   },
   "outputs": [
    {
     "data": {
      "text/plain": [
       "0.79400104354429424"
      ]
     },
     "execution_count": 141,
     "metadata": {},
     "output_type": "execute_result"
    }
   ],
   "source": [
    "merged_df['citable_per_person'] = merged_df['Citable documents']/merged_df['pop']\n",
    "m1 = merged_df['citable_per_person'].astype('float64')\n",
    "m2 = merged_df['Energy Supply per Capita'].astype('float64')\n",
    "m1.corr(m2)"
   ]
  },
  {
   "cell_type": "code",
   "execution_count": 142,
   "metadata": {
    "collapsed": true
   },
   "outputs": [],
   "source": [
    "def plot9():\n",
    "    import matplotlib as plt\n",
    "    %matplotlib inline\n",
    "    \n",
    "    Top15 = merged_df\n",
    "    \n",
    "    Top15['PopEst'] = Top15['Energy Supply'] / Top15['Energy Supply per Capita']\n",
    "    Top15['Citable docs per Capita'] = Top15['Citable documents'] / Top15['PopEst']\n",
    "    Top15.plot(x='Citable docs per Capita', y='Energy Supply per Capita', kind='scatter', xlim=[0, 0.0006])"
   ]
  },
  {
   "cell_type": "code",
   "execution_count": 83,
   "metadata": {},
   "outputs": [
    {
     "data": {
      "image/png": "[encoded data removed]",
      "text/plain": [
       "<matplotlib.figure.Figure at 0x7f654a76ea90>"
      ]
     },
     "metadata": {},
     "output_type": "display_data"
    }
   ],
   "source": [
    "plot9() # Be sure to comment out plot9() before submitting the assignment!"
   ]
  },
  {
   "cell_type": "markdown",
   "metadata": {},
   "source": [
    "### Question 10 (6.6%)\n",
    "Create a new column with a 1 if the country's % Renewable value is at or above the median for all countries in the top 15, and a 0 if the country's % Renewable value is below the median.\n",
    "\n",
    "*This function should return a series named `HighRenew` whose index is the country name sorted in ascending order of rank.*"
   ]
  },
  {
   "cell_type": "code",
   "execution_count": 143,
   "metadata": {
    "umich_part_id": "018",
    "umich_partlist_id": "003"
   },
   "outputs": [
    {
     "data": {
      "text/plain": [
       "Country\n",
       "Australia             False\n",
       "Brazil                 True\n",
       "Canada                 True\n",
       "China                  True\n",
       "France                False\n",
       "Germany                True\n",
       "India                 False\n",
       "Iran                  False\n",
       "Italy                  True\n",
       "Japan                 False\n",
       "South Korea           False\n",
       "Russian Federation     True\n",
       "Spain                  True\n",
       "United Kingdom        False\n",
       "United States         False\n",
       "Name: HighRenew, dtype: bool"
      ]
     },
     "execution_count": 143,
     "metadata": {},
     "output_type": "execute_result"
    }
   ],
   "source": [
    "med = np.median(merged_df['% Renewable'])\n",
    "merged_df['HighRenew'] = merged_df['% Renewable']>med\n",
    "merged_df['HighRenew']\n"
   ]
  },
  {
   "cell_type": "markdown",
   "metadata": {},
   "source": [
    "### Question 11 (6.6%)\n",
    "Use the following dictionary to group the Countries by Continent, then create a dateframe that displays the sample size (the number of countries in each continent bin), and the sum, mean, and std deviation for the estimated population of each country.\n",
    "\n",
    "```python\n",
    "ContinentDict  = {'China':'Asia', \n",
    "                  'United States':'North America', \n",
    "                  'Japan':'Asia', \n",
    "                  'United Kingdom':'Europe', \n",
    "                  'Russian Federation':'Europe', \n",
    "                  'Canada':'North America', \n",
    "                  'Germany':'Europe', \n",
    "                  'India':'Asia',\n",
    "                  'France':'Europe', \n",
    "                  'South Korea':'Asia', \n",
    "                  'Italy':'Europe', \n",
    "                  'Spain':'Europe', \n",
    "                  'Iran':'Asia',\n",
    "                  'Australia':'Australia', \n",
    "                  'Brazil':'South America'}\n",
    "```\n",
    "\n",
    "*This function should return a DataFrame with index named Continent `['Asia', 'Australia', 'Europe', 'North America', 'South America']` and columns `['size', 'sum', 'mean', 'std']`*"
   ]
  },
  {
   "cell_type": "code",
   "execution_count": 144,
   "metadata": {
    "umich_part_id": "019",
    "umich_partlist_id": "003"
   },
   "outputs": [
    {
     "data": {
      "text/html": [
       "<div>\n",
       "<table border=\"1\" class=\"dataframe\">\n",
       "  <thead>\n",
       "    <tr style=\"text-align: right;\">\n",
       "      <th></th>\n",
       "      <th>Energy Supply</th>\n",
       "      <th>Energy Supply per Capita</th>\n",
       "      <th>% Renewable</th>\n",
       "      <th>2006</th>\n",
       "      <th>2007</th>\n",
       "      <th>2008</th>\n",
       "      <th>2009</th>\n",
       "      <th>2010</th>\n",
       "      <th>2011</th>\n",
       "      <th>2012</th>\n",
       "      <th>...</th>\n",
       "      <th>Citable documents</th>\n",
       "      <th>Citations</th>\n",
       "      <th>Self-citations</th>\n",
       "      <th>Citations per document</th>\n",
       "      <th>H index</th>\n",
       "      <th>Citation ratio</th>\n",
       "      <th>pop</th>\n",
       "      <th>citable_per_person</th>\n",
       "      <th>HighRenew</th>\n",
       "      <th>Continent</th>\n",
       "    </tr>\n",
       "    <tr>\n",
       "      <th>Country</th>\n",
       "      <th></th>\n",
       "      <th></th>\n",
       "      <th></th>\n",
       "      <th></th>\n",
       "      <th></th>\n",
       "      <th></th>\n",
       "      <th></th>\n",
       "      <th></th>\n",
       "      <th></th>\n",
       "      <th></th>\n",
       "      <th></th>\n",
       "      <th></th>\n",
       "      <th></th>\n",
       "      <th></th>\n",
       "      <th></th>\n",
       "      <th></th>\n",
       "      <th></th>\n",
       "      <th></th>\n",
       "      <th></th>\n",
       "      <th></th>\n",
       "      <th></th>\n",
       "    </tr>\n",
       "  </thead>\n",
       "  <tbody>\n",
       "    <tr>\n",
       "      <th>Australia</th>\n",
       "      <td>5386000000</td>\n",
       "      <td>231</td>\n",
       "      <td>11.8108</td>\n",
       "      <td>1.021939e+12</td>\n",
       "      <td>1.060340e+12</td>\n",
       "      <td>1.099644e+12</td>\n",
       "      <td>1.119654e+12</td>\n",
       "      <td>1.142251e+12</td>\n",
       "      <td>1.169431e+12</td>\n",
       "      <td>1.211913e+12</td>\n",
       "      <td>...</td>\n",
       "      <td>8725</td>\n",
       "      <td>90765</td>\n",
       "      <td>15606</td>\n",
       "      <td>10.28</td>\n",
       "      <td>107</td>\n",
       "      <td>0.171939</td>\n",
       "      <td>2.3316e+07</td>\n",
       "      <td>0.000374206</td>\n",
       "      <td>False</td>\n",
       "      <td>Australia</td>\n",
       "    </tr>\n",
       "    <tr>\n",
       "      <th>Brazil</th>\n",
       "      <td>12149000000</td>\n",
       "      <td>59</td>\n",
       "      <td>69.648</td>\n",
       "      <td>1.845080e+12</td>\n",
       "      <td>1.957118e+12</td>\n",
       "      <td>2.056809e+12</td>\n",
       "      <td>2.054215e+12</td>\n",
       "      <td>2.208872e+12</td>\n",
       "      <td>2.295245e+12</td>\n",
       "      <td>2.339209e+12</td>\n",
       "      <td>...</td>\n",
       "      <td>8596</td>\n",
       "      <td>60702</td>\n",
       "      <td>14396</td>\n",
       "      <td>7.00</td>\n",
       "      <td>86</td>\n",
       "      <td>0.237159</td>\n",
       "      <td>2.05915e+08</td>\n",
       "      <td>4.17453e-05</td>\n",
       "      <td>True</td>\n",
       "      <td>South America</td>\n",
       "    </tr>\n",
       "    <tr>\n",
       "      <th>Canada</th>\n",
       "      <td>10431000000</td>\n",
       "      <td>296</td>\n",
       "      <td>61.9454</td>\n",
       "      <td>1.564469e+12</td>\n",
       "      <td>1.596740e+12</td>\n",
       "      <td>1.612713e+12</td>\n",
       "      <td>1.565145e+12</td>\n",
       "      <td>1.613406e+12</td>\n",
       "      <td>1.664087e+12</td>\n",
       "      <td>1.693133e+12</td>\n",
       "      <td>...</td>\n",
       "      <td>17620</td>\n",
       "      <td>215003</td>\n",
       "      <td>40930</td>\n",
       "      <td>12.01</td>\n",
       "      <td>149</td>\n",
       "      <td>0.190369</td>\n",
       "      <td>3.52399e+07</td>\n",
       "      <td>0.000500002</td>\n",
       "      <td>True</td>\n",
       "      <td>North America</td>\n",
       "    </tr>\n",
       "    <tr>\n",
       "      <th>China</th>\n",
       "      <td>127191000000</td>\n",
       "      <td>93</td>\n",
       "      <td>19.7549</td>\n",
       "      <td>3.992331e+12</td>\n",
       "      <td>4.559041e+12</td>\n",
       "      <td>4.997775e+12</td>\n",
       "      <td>5.459247e+12</td>\n",
       "      <td>6.039659e+12</td>\n",
       "      <td>6.612490e+12</td>\n",
       "      <td>7.124978e+12</td>\n",
       "      <td>...</td>\n",
       "      <td>126767</td>\n",
       "      <td>597237</td>\n",
       "      <td>411683</td>\n",
       "      <td>4.70</td>\n",
       "      <td>138</td>\n",
       "      <td>0.689313</td>\n",
       "      <td>1.36765e+09</td>\n",
       "      <td>9.269e-05</td>\n",
       "      <td>True</td>\n",
       "      <td>Asia</td>\n",
       "    </tr>\n",
       "    <tr>\n",
       "      <th>France</th>\n",
       "      <td>10597000000</td>\n",
       "      <td>166</td>\n",
       "      <td>17.0203</td>\n",
       "      <td>2.607840e+12</td>\n",
       "      <td>2.669424e+12</td>\n",
       "      <td>2.674637e+12</td>\n",
       "      <td>2.595967e+12</td>\n",
       "      <td>2.646995e+12</td>\n",
       "      <td>2.702032e+12</td>\n",
       "      <td>2.706968e+12</td>\n",
       "      <td>...</td>\n",
       "      <td>12973</td>\n",
       "      <td>130632</td>\n",
       "      <td>28601</td>\n",
       "      <td>9.93</td>\n",
       "      <td>114</td>\n",
       "      <td>0.218943</td>\n",
       "      <td>6.38373e+07</td>\n",
       "      <td>0.00020322</td>\n",
       "      <td>False</td>\n",
       "      <td>Europe</td>\n",
       "    </tr>\n",
       "  </tbody>\n",
       "</table>\n",
       "<p>5 rows × 25 columns</p>\n",
       "</div>"
      ],
      "text/plain": [
       "          Energy Supply Energy Supply per Capita % Renewable          2006  \\\n",
       "Country                                                                      \n",
       "Australia    5386000000                      231     11.8108  1.021939e+12   \n",
       "Brazil      12149000000                       59      69.648  1.845080e+12   \n",
       "Canada      10431000000                      296     61.9454  1.564469e+12   \n",
       "China      127191000000                       93     19.7549  3.992331e+12   \n",
       "France      10597000000                      166     17.0203  2.607840e+12   \n",
       "\n",
       "                   2007          2008          2009          2010  \\\n",
       "Country                                                             \n",
       "Australia  1.060340e+12  1.099644e+12  1.119654e+12  1.142251e+12   \n",
       "Brazil     1.957118e+12  2.056809e+12  2.054215e+12  2.208872e+12   \n",
       "Canada     1.596740e+12  1.612713e+12  1.565145e+12  1.613406e+12   \n",
       "China      4.559041e+12  4.997775e+12  5.459247e+12  6.039659e+12   \n",
       "France     2.669424e+12  2.674637e+12  2.595967e+12  2.646995e+12   \n",
       "\n",
       "                   2011          2012      ...        Citable documents  \\\n",
       "Country                                    ...                            \n",
       "Australia  1.169431e+12  1.211913e+12      ...                     8725   \n",
       "Brazil     2.295245e+12  2.339209e+12      ...                     8596   \n",
       "Canada     1.664087e+12  1.693133e+12      ...                    17620   \n",
       "China      6.612490e+12  7.124978e+12      ...                   126767   \n",
       "France     2.702032e+12  2.706968e+12      ...                    12973   \n",
       "\n",
       "           Citations  Self-citations  Citations per document  H index  \\\n",
       "Country                                                                 \n",
       "Australia      90765           15606                   10.28      107   \n",
       "Brazil         60702           14396                    7.00       86   \n",
       "Canada        215003           40930                   12.01      149   \n",
       "China         597237          411683                    4.70      138   \n",
       "France        130632           28601                    9.93      114   \n",
       "\n",
       "           Citation ratio          pop  citable_per_person  HighRenew  \\\n",
       "Country                                                                 \n",
       "Australia        0.171939   2.3316e+07         0.000374206      False   \n",
       "Brazil           0.237159  2.05915e+08         4.17453e-05       True   \n",
       "Canada           0.190369  3.52399e+07         0.000500002       True   \n",
       "China            0.689313  1.36765e+09           9.269e-05       True   \n",
       "France           0.218943  6.38373e+07          0.00020322      False   \n",
       "\n",
       "               Continent  \n",
       "Country                   \n",
       "Australia      Australia  \n",
       "Brazil     South America  \n",
       "Canada     North America  \n",
       "China               Asia  \n",
       "France            Europe  \n",
       "\n",
       "[5 rows x 25 columns]"
      ]
     },
     "execution_count": 144,
     "metadata": {},
     "output_type": "execute_result"
    }
   ],
   "source": [
    "ContinentDict  = {'China':'Asia', \n",
    "                  'United States':'North America', \n",
    "                  'Japan':'Asia', \n",
    "                  'United Kingdom':'Europe', \n",
    "                  'Russian Federation':'Europe', \n",
    "                  'Canada':'North America', \n",
    "                  'Germany':'Europe', \n",
    "                  'India':'Asia',\n",
    "                  'France':'Europe', \n",
    "                  'South Korea':'Asia', \n",
    "                  'Italy':'Europe', \n",
    "                  'Spain':'Europe', \n",
    "                  'Iran':'Asia',\n",
    "                  'Australia':'Australia', \n",
    "                  'Brazil':'South America'}\n",
    "df_ContinentDict = pd.DataFrame([ContinentDict]).T\n",
    "df_ContinentDict.columns = ['Continent']\n",
    "merged_df = pd.merge(merged_df,\n",
    "                    df_ContinentDict,\n",
    "                    how = 'left',\n",
    "                    left_index=True,\n",
    "                    right_index = True)\n",
    "merged_df.head()"
   ]
  },
  {
   "cell_type": "code",
   "execution_count": 168,
   "metadata": {},
   "outputs": [
    {
     "data": {
      "text/html": [
       "<div>\n",
       "<table border=\"1\" class=\"dataframe\">\n",
       "  <thead>\n",
       "    <tr style=\"text-align: right;\">\n",
       "      <th></th>\n",
       "      <th>sum</th>\n",
       "      <th>size</th>\n",
       "      <th>mean</th>\n",
       "      <th>std</th>\n",
       "    </tr>\n",
       "    <tr>\n",
       "      <th>Continent</th>\n",
       "      <th></th>\n",
       "      <th></th>\n",
       "      <th></th>\n",
       "      <th></th>\n",
       "    </tr>\n",
       "  </thead>\n",
       "  <tbody>\n",
       "    <tr>\n",
       "      <th>Asia</th>\n",
       "      <td>2.898666e+09</td>\n",
       "      <td>5.0</td>\n",
       "      <td>5.797333e+08</td>\n",
       "      <td>6.790979e+08</td>\n",
       "    </tr>\n",
       "    <tr>\n",
       "      <th>Australia</th>\n",
       "      <td>2.331602e+07</td>\n",
       "      <td>1.0</td>\n",
       "      <td>2.331602e+07</td>\n",
       "      <td>NaN</td>\n",
       "    </tr>\n",
       "    <tr>\n",
       "      <th>Europe</th>\n",
       "      <td>4.579297e+08</td>\n",
       "      <td>6.0</td>\n",
       "      <td>7.632161e+07</td>\n",
       "      <td>3.464767e+07</td>\n",
       "    </tr>\n",
       "    <tr>\n",
       "      <th>North America</th>\n",
       "      <td>3.528552e+08</td>\n",
       "      <td>2.0</td>\n",
       "      <td>1.764276e+08</td>\n",
       "      <td>1.996696e+08</td>\n",
       "    </tr>\n",
       "    <tr>\n",
       "      <th>South America</th>\n",
       "      <td>2.059153e+08</td>\n",
       "      <td>1.0</td>\n",
       "      <td>2.059153e+08</td>\n",
       "      <td>NaN</td>\n",
       "    </tr>\n",
       "  </tbody>\n",
       "</table>\n",
       "</div>"
      ],
      "text/plain": [
       "                        sum  size          mean           std\n",
       "Continent                                                    \n",
       "Asia           2.898666e+09   5.0  5.797333e+08  6.790979e+08\n",
       "Australia      2.331602e+07   1.0  2.331602e+07           NaN\n",
       "Europe         4.579297e+08   6.0  7.632161e+07  3.464767e+07\n",
       "North America  3.528552e+08   2.0  1.764276e+08  1.996696e+08\n",
       "South America  2.059153e+08   1.0  2.059153e+08           NaN"
      ]
     },
     "execution_count": 168,
     "metadata": {},
     "output_type": "execute_result"
    }
   ],
   "source": [
    "# Ill approach this problem by using a pivot table\n",
    "merged_df['pop_type'] = merged_df['pop'].astype('float64')\n",
    "merged_df.pivot_table(values = 'pop_type', \n",
    "                      index = 'Continent', \n",
    "                      aggfunc= [np.sum,\n",
    "                                np.size,\n",
    "                                np.mean,\n",
    "                               np.std])\n",
    "# For a reason, np.mean and np.std do not work\n",
    "# and yield the problem: \"No numeric types to aggregate\""
   ]
  },
  {
   "cell_type": "markdown",
   "metadata": {},
   "source": [
    "### Question 12 (6.6%)\n",
    "Cut % Renewable into 5 bins. Group Top15 by the Continent, as well as these new % Renewable bins. How many countries are in each of these groups?\n",
    "\n",
    "*This function should return a __Series__ with a MultiIndex of `Continent`, then the bins for `% Renewable`. Do not include groups with no countries.*"
   ]
  },
  {
   "cell_type": "code",
   "execution_count": 172,
   "metadata": {
    "scrolled": true
   },
   "outputs": [
    {
     "data": {
      "text/html": [
       "<div>\n",
       "<table border=\"1\" class=\"dataframe\">\n",
       "  <thead>\n",
       "    <tr style=\"text-align: right;\">\n",
       "      <th></th>\n",
       "      <th></th>\n",
       "      <th>size</th>\n",
       "    </tr>\n",
       "    <tr>\n",
       "      <th>Continent</th>\n",
       "      <th>cut</th>\n",
       "      <th></th>\n",
       "    </tr>\n",
       "  </thead>\n",
       "  <tbody>\n",
       "    <tr>\n",
       "      <th rowspan=\"5\" valign=\"top\">Asia</th>\n",
       "      <th>(2.212, 15.753]</th>\n",
       "      <td>4.0</td>\n",
       "    </tr>\n",
       "    <tr>\n",
       "      <th>(15.753, 29.227]</th>\n",
       "      <td>1.0</td>\n",
       "    </tr>\n",
       "    <tr>\n",
       "      <th>(29.227, 42.701]</th>\n",
       "      <td>NaN</td>\n",
       "    </tr>\n",
       "    <tr>\n",
       "      <th>(42.701, 56.174]</th>\n",
       "      <td>NaN</td>\n",
       "    </tr>\n",
       "    <tr>\n",
       "      <th>(56.174, 69.648]</th>\n",
       "      <td>NaN</td>\n",
       "    </tr>\n",
       "    <tr>\n",
       "      <th rowspan=\"5\" valign=\"top\">Australia</th>\n",
       "      <th>(2.212, 15.753]</th>\n",
       "      <td>1.0</td>\n",
       "    </tr>\n",
       "    <tr>\n",
       "      <th>(15.753, 29.227]</th>\n",
       "      <td>NaN</td>\n",
       "    </tr>\n",
       "    <tr>\n",
       "      <th>(29.227, 42.701]</th>\n",
       "      <td>NaN</td>\n",
       "    </tr>\n",
       "    <tr>\n",
       "      <th>(42.701, 56.174]</th>\n",
       "      <td>NaN</td>\n",
       "    </tr>\n",
       "    <tr>\n",
       "      <th>(56.174, 69.648]</th>\n",
       "      <td>NaN</td>\n",
       "    </tr>\n",
       "    <tr>\n",
       "      <th rowspan=\"5\" valign=\"top\">Europe</th>\n",
       "      <th>(2.212, 15.753]</th>\n",
       "      <td>1.0</td>\n",
       "    </tr>\n",
       "    <tr>\n",
       "      <th>(15.753, 29.227]</th>\n",
       "      <td>3.0</td>\n",
       "    </tr>\n",
       "    <tr>\n",
       "      <th>(29.227, 42.701]</th>\n",
       "      <td>2.0</td>\n",
       "    </tr>\n",
       "    <tr>\n",
       "      <th>(42.701, 56.174]</th>\n",
       "      <td>NaN</td>\n",
       "    </tr>\n",
       "    <tr>\n",
       "      <th>(56.174, 69.648]</th>\n",
       "      <td>NaN</td>\n",
       "    </tr>\n",
       "    <tr>\n",
       "      <th rowspan=\"5\" valign=\"top\">North America</th>\n",
       "      <th>(2.212, 15.753]</th>\n",
       "      <td>1.0</td>\n",
       "    </tr>\n",
       "    <tr>\n",
       "      <th>(15.753, 29.227]</th>\n",
       "      <td>NaN</td>\n",
       "    </tr>\n",
       "    <tr>\n",
       "      <th>(29.227, 42.701]</th>\n",
       "      <td>NaN</td>\n",
       "    </tr>\n",
       "    <tr>\n",
       "      <th>(42.701, 56.174]</th>\n",
       "      <td>NaN</td>\n",
       "    </tr>\n",
       "    <tr>\n",
       "      <th>(56.174, 69.648]</th>\n",
       "      <td>1.0</td>\n",
       "    </tr>\n",
       "    <tr>\n",
       "      <th rowspan=\"5\" valign=\"top\">South America</th>\n",
       "      <th>(2.212, 15.753]</th>\n",
       "      <td>NaN</td>\n",
       "    </tr>\n",
       "    <tr>\n",
       "      <th>(15.753, 29.227]</th>\n",
       "      <td>NaN</td>\n",
       "    </tr>\n",
       "    <tr>\n",
       "      <th>(29.227, 42.701]</th>\n",
       "      <td>NaN</td>\n",
       "    </tr>\n",
       "    <tr>\n",
       "      <th>(42.701, 56.174]</th>\n",
       "      <td>NaN</td>\n",
       "    </tr>\n",
       "    <tr>\n",
       "      <th>(56.174, 69.648]</th>\n",
       "      <td>1.0</td>\n",
       "    </tr>\n",
       "  </tbody>\n",
       "</table>\n",
       "</div>"
      ],
      "text/plain": [
       "                                size\n",
       "Continent     cut                   \n",
       "Asia          (2.212, 15.753]    4.0\n",
       "              (15.753, 29.227]   1.0\n",
       "              (29.227, 42.701]   NaN\n",
       "              (42.701, 56.174]   NaN\n",
       "              (56.174, 69.648]   NaN\n",
       "Australia     (2.212, 15.753]    1.0\n",
       "              (15.753, 29.227]   NaN\n",
       "              (29.227, 42.701]   NaN\n",
       "              (42.701, 56.174]   NaN\n",
       "              (56.174, 69.648]   NaN\n",
       "Europe        (2.212, 15.753]    1.0\n",
       "              (15.753, 29.227]   3.0\n",
       "              (29.227, 42.701]   2.0\n",
       "              (42.701, 56.174]   NaN\n",
       "              (56.174, 69.648]   NaN\n",
       "North America (2.212, 15.753]    1.0\n",
       "              (15.753, 29.227]   NaN\n",
       "              (29.227, 42.701]   NaN\n",
       "              (42.701, 56.174]   NaN\n",
       "              (56.174, 69.648]   1.0\n",
       "South America (2.212, 15.753]    NaN\n",
       "              (15.753, 29.227]   NaN\n",
       "              (29.227, 42.701]   NaN\n",
       "              (42.701, 56.174]   NaN\n",
       "              (56.174, 69.648]   1.0"
      ]
     },
     "execution_count": 172,
     "metadata": {},
     "output_type": "execute_result"
    }
   ],
   "source": [
    "merged_df['cut'] = pd.cut(merged_df['% Renewable'],5)\n",
    "merged_df.pivot_table(values = 'pop_type', \n",
    "                      index = ['Continent','cut'], \n",
    "                      aggfunc= [np.size])"
   ]
  },
  {
   "cell_type": "markdown",
   "metadata": {},
   "source": [
    "### Question 13 (6.6%)\n",
    "Convert the Population Estimate series to a string with thousands separator (using commas). Do not round the results.\n",
    "\n",
    "e.g. 317615384.61538464 -> 317,615,384.61538464\n",
    "\n",
    "*This function should return a Series `PopEst` whose index is the country name and whose values are the population estimate string.*"
   ]
  },
  {
   "cell_type": "code",
   "execution_count": null,
   "metadata": {
    "collapsed": true,
    "scrolled": true,
    "umich_part_id": "020",
    "umich_partlist_id": "003"
   },
   "outputs": [],
   "source": []
  },
  {
   "cell_type": "markdown",
   "metadata": {},
   "source": [
    "### Optional\n",
    "\n",
    "Use the built in function `plot_optional()` to see an example visualization."
   ]
  },
  {
   "cell_type": "code",
   "execution_count": null,
   "metadata": {
    "collapsed": true,
    "scrolled": true
   },
   "outputs": [],
   "source": [
    "def plot_optional():\n",
    "    import matplotlib as plt\n",
    "    %matplotlib inline\n",
    "    Top15 = answer_one()\n",
    "    ax = Top15.plot(x='Rank', y='% Renewable', kind='scatter', \n",
    "                    c=['#e41a1c','#377eb8','#e41a1c','#4daf4a','#4daf4a','#377eb8','#4daf4a','#e41a1c',\n",
    "                       '#4daf4a','#e41a1c','#4daf4a','#4daf4a','#e41a1c','#dede00','#ff7f00'], \n",
    "                    xticks=range(1,16), s=6*Top15['2014']/10**10, alpha=.75, figsize=[16,6]);\n",
    "\n",
    "    for i, txt in enumerate(Top15.index):\n",
    "        ax.annotate(txt, [Top15['Rank'][i], Top15['% Renewable'][i]], ha='center')\n",
    "\n",
    "    print(\"This is an example of a visualization that can be created to help understand the data. \\\n",
    "This is a bubble chart showing % Renewable vs. Rank. The size of the bubble corresponds to the countries' \\\n",
    "2014 GDP, and the color corresponds to the continent.\")"
   ]
  },
  {
   "cell_type": "code",
   "execution_count": null,
   "metadata": {
    "collapsed": true
   },
   "outputs": [],
   "source": [
    "#plot_optional() # Be sure to comment out plot_optional() before submitting the assignment!"
   ]
  }
 ],
 "metadata": {
  "anaconda-cloud": {},
  "coursera": {
   "course_slug": "python-data-analysis",
   "graded_item_id": "zAr06",
   "launcher_item_id": "KSSjT",
   "part_id": "SL3fU"
  },
  "kernelspec": {
   "display_name": "Python 3",
   "language": "python",
   "name": "python3"
  },
  "language_info": {
   "codemirror_mode": {
    "name": "ipython",
    "version": 3
   },
   "file_extension": ".py",
   "mimetype": "text/x-python",
   "name": "python",
   "nbconvert_exporter": "python",
   "pygments_lexer": "ipython3",
   "version": "3.6.2"
  },
  "umich": {
   "id": "Assignment 3",
   "version": "1.5"
  }
 },
 "nbformat": 4,
 "nbformat_minor": 1
}
